{
 "cells": [
  {
   "cell_type": "code",
   "execution_count": 10,
   "metadata": {},
   "outputs": [],
   "source": [
    "## Dataset should be arranged in two folder,\n",
    "##### Dataroot\n",
    "#####  |\n",
    "#####  ├── images (jpeg/png RGB images)\n",
    "#####  └── labels (label files in yolo format. Each label file should have same basename as corresponding image file)"
   ]
  },
  {
   "cell_type": "markdown",
   "metadata": {},
   "source": [
    "## 1. Training"
   ]
  },
  {
   "cell_type": "code",
   "execution_count": 5,
   "metadata": {},
   "outputs": [],
   "source": [
    "# dataset parameters\n",
    "dataRoot = \"/home/varun/work/yolov5/data/labData/corn-n-soy\"\n",
    "trainRelativePath = \"images\"\n",
    "valRelativePath = \"images\"\n",
    "yamlPath = \"/home/varun/work/yolov5/data/labData/corn-n-soy.yaml\"\n",
    "classList = [\"weed\"]\n",
    "\n",
    "# training parameters\n",
    "imgSize = 640\n",
    "batchSize = 32\n",
    "epochs = 300\n",
    "weightPath = \"/home/varun/work/yolov5/yolov5s.pt\"\n",
    "device = \"0\"\n",
    "optimizer = \"Adam\" #(choose from 'SGD', 'Adam', 'AdamW')  \n",
    "workers = 16\n",
    "projectName = \"corn-n-soy-v1\"\n",
    "projectSaveDir = \"/home/varun/work/yolov5/runs/train\"\n",
    "savePeriod = 10\n",
    "cacheRAM = True\n",
    "useWandb = True\n",
    "condaEnvName = \"yv5\""
   ]
  },
  {
   "cell_type": "code",
   "execution_count": 6,
   "metadata": {},
   "outputs": [],
   "source": [
    "import os\n",
    "\n",
    "pN = os.path.join(projectSaveDir, projectName)\n",
    "## Setups train command\n",
    "if cacheRAM:\n",
    "    trainString = f\"python train.py --img {imgSize} --batch {batchSize} --epochs {epochs} --data {yamlPath} --weights {weightPath} --device {device} --optimizer {optimizer} --workers {workers} --project {pN} --save-period {savePeriod} --cache ram\"\n",
    "else:\n",
    "    trainString = f\"python train.py --img {imgSize} --batch {batchSize} --epochs {epochs} --data {yamlPath} --weights {weightPath} --device {device} --optimizer {optimizer} --workers {workers} --project {pN} --save-period {savePeriod}\""
   ]
  },
  {
   "cell_type": "code",
   "execution_count": 7,
   "metadata": {},
   "outputs": [],
   "source": [
    "## Create yaml file\n",
    "with open(yamlPath, \"w\") as f:\n",
    "    f.write(\"# YAML file for Project: \"+ projectName+\"\\n\")\n",
    "    f.write(\"# Training Command:\\n\")\n",
    "    f.write(\"# \"+trainString+ \"\\n\")\n",
    "    f.write(\"train: \" + os.path.join(dataRoot, trainRelativePath) + \"\\n\")\n",
    "    f.write(\"val: \" + os.path.join(dataRoot, valRelativePath) + \"\\n\")\n",
    "    f.write(\"nc: \" + str(len(classList)) + \"\\n\")\n",
    "    f.write(\"names:\\n\")\n",
    "    for i, cls in enumerate(classList):\n",
    "        f.write(\"  \"+str(i)+\": \"+cls + \"\\n\")"
   ]
  },
  {
   "cell_type": "code",
   "execution_count": 8,
   "metadata": {},
   "outputs": [
    {
     "name": "stdout",
     "output_type": "stream",
     "text": [
      "Run the following commands to start training:\n",
      "tmux new -s corn-n-soy-v1\n",
      "ca yv5\n",
      "wandb online\n",
      "sh run_corn-n-soy-v1.sh\n"
     ]
    }
   ],
   "source": [
    "# create run script\n",
    "with open(\"run_\"+projectName+\".sh\", \"w\") as f:\n",
    "    f.write(\"#!/bin/bash\\n\")\n",
    "    f.write(trainString)\n",
    "\n",
    "print(\"Run the following commands to start training:\")\n",
    "print(\"tmux new -s \"+projectName)\n",
    "print(\"ca yv5\")\n",
    "if useWandb:\n",
    "    print(\"wandb online\")\n",
    "else:\n",
    "    print(\"wandb offline\")\n",
    "print(\"sh run_\"+projectName+\".sh\")"
   ]
  },
  {
   "cell_type": "markdown",
   "metadata": {},
   "source": [
    "# 2. Testing"
   ]
  },
  {
   "cell_type": "code",
   "execution_count": null,
   "metadata": {},
   "outputs": [],
   "source": [
    "# python detect.py --weights cornTrial1/exp6/weights/best.pt --source 'split/corn/day3/*' --save-txt --name corntrial1-all_corn_day3"
   ]
  },
  {
   "cell_type": "markdown",
   "metadata": {},
   "source": [
    "# 3. Counting and validating with ground truth task"
   ]
  },
  {
   "cell_type": "markdown",
   "metadata": {},
   "source": []
  }
 ],
 "metadata": {
  "kernelspec": {
   "display_name": "Python 3.8.13 ('yv5')",
   "language": "python",
   "name": "python3"
  },
  "language_info": {
   "codemirror_mode": {
    "name": "ipython",
    "version": 3
   },
   "file_extension": ".py",
   "mimetype": "text/x-python",
   "name": "python",
   "nbconvert_exporter": "python",
   "pygments_lexer": "ipython3",
   "version": "3.8.13"
  },
  "orig_nbformat": 4,
  "vscode": {
   "interpreter": {
    "hash": "de8c8650fb9c1e5f887a2adaabd7c2739d62696876b5af5a5fff209b83a4b325"
   }
  }
 },
 "nbformat": 4,
 "nbformat_minor": 2
}
