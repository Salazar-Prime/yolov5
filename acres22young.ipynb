{
 "cells": [
  {
   "cell_type": "code",
   "execution_count": 10,
   "metadata": {},
   "outputs": [],
   "source": [
    "## Dataset should be arranged in two folder,\n",
    "##### Dataroot\n",
    "#####  |\n",
    "#####  ├── images (jpeg/png RGB images)\n",
    "#####  └── labels (label files in yolo format. Each label file should have same basename as corresponding image file)\n",
    "\n",
    "##### The code must run from project root directory (For Example: ~/work/yolov5)"
   ]
  },
  {
   "cell_type": "markdown",
   "metadata": {},
   "source": [
    "> Run the notebook one section at a time only. \n",
    ">\n",
    "> WARNING: Running the entire notebook at once will cause errors !!!"
   ]
  },
  {
   "cell_type": "markdown",
   "metadata": {},
   "source": [
    "## 1. Training"
   ]
  },
  {
   "cell_type": "code",
   "execution_count": 5,
   "metadata": {},
   "outputs": [],
   "source": [
    "# dataset parameters\n",
    "dataRoot = \"/home/varun/work/yolov5/data/labData/corn-n-soy\"\n",
    "trainRelativePath = \"images\"\n",
    "valRelativePath = \"images\"\n",
    "yamlPath = \"/home/varun/work/yolov5/data/labData/corn-n-soy.yaml\"\n",
    "classList = [\"weed\"]\n",
    "\n",
    "# training parameters\n",
    "imgSize = 640\n",
    "batchSize = 32\n",
    "epochs = 300\n",
    "weightPath = \"/home/varun/work/yolov5/yolov5s.pt\"\n",
    "device = \"0\"\n",
    "optimizer = \"Adam\" #(choose from 'SGD', 'Adam', 'AdamW')  \n",
    "workers = 16\n",
    "projectSaveDir = \"/home/varun/work/yolov5/runs/acres22young/train\"\n",
    "projectName = \"corn-n-soy-v1\" # name of the project (relative to projectSaveDir)\n",
    "savePeriod = 10\n",
    "cacheRAM = True\n",
    "useWandb = True\n",
    "condaEnvName = \"yv5\""
   ]
  },
  {
   "cell_type": "code",
   "execution_count": 6,
   "metadata": {},
   "outputs": [],
   "source": [
    "import os\n",
    "\n",
    "pN = os.path.join(projectSaveDir, projectName)\n",
    "## Setups train command\n",
    "if cacheRAM:\n",
    "    trainString = f\"python train.py --img {imgSize} --batch {batchSize} --epochs {epochs} --data {yamlPath} --weights {weightPath} --device {device} --optimizer {optimizer} --workers {workers} --project {pN} --save-period {savePeriod} --cache ram\"\n",
    "else:\n",
    "    trainString = f\"python train.py --img {imgSize} --batch {batchSize} --epochs {epochs} --data {yamlPath} --weights {weightPath} --device {device} --optimizer {optimizer} --workers {workers} --project {pN} --save-period {savePeriod}\""
   ]
  },
  {
   "cell_type": "code",
   "execution_count": 7,
   "metadata": {},
   "outputs": [],
   "source": [
    "## Create yaml file\n",
    "with open(yamlPath, \"w\") as f:\n",
    "    f.write(\"# YAML file for Project: \"+ projectName+\"\\n\")\n",
    "    f.write(\"# Training Command:\\n\")\n",
    "    f.write(\"# \"+trainString+ \"\\n\")\n",
    "    f.write(\"train: \" + os.path.join(dataRoot, trainRelativePath) + \"\\n\")\n",
    "    f.write(\"val: \" + os.path.join(dataRoot, valRelativePath) + \"\\n\")\n",
    "    f.write(\"nc: \" + str(len(classList)) + \"\\n\")\n",
    "    f.write(\"names:\\n\")\n",
    "    for i, cls in enumerate(classList):\n",
    "        f.write(\"  \"+str(i)+\": \"+cls + \"\\n\")"
   ]
  },
  {
   "cell_type": "code",
   "execution_count": 8,
   "metadata": {},
   "outputs": [
    {
     "name": "stdout",
     "output_type": "stream",
     "text": [
      "Run the following commands to start training:\n",
      "tmux new -s corn-n-soy-v1\n",
      "ca yv5\n",
      "wandb online\n",
      "sh run_corn-n-soy-v1.sh\n"
     ]
    }
   ],
   "source": [
    "# create train run script\n",
    "with open(\"runTrain_\"+projectName+\".sh\", \"w\") as f:\n",
    "    f.write(\"#!/bin/bash\\n\")\n",
    "    f.write(trainString)\n",
    "\n",
    "print(\"Run the following commands to start training:\")\n",
    "print(\"tmux new -s \"+projectName)\n",
    "print(\"ca yv5\")\n",
    "if useWandb:\n",
    "    print(\"wandb online\")\n",
    "else:\n",
    "    print(\"wandb offline\")\n",
    "print(\"sh runTrain_\"+projectName+\".sh\")"
   ]
  },
  {
   "cell_type": "markdown",
   "metadata": {},
   "source": [
    "# 2. Testing"
   ]
  },
  {
   "cell_type": "code",
   "execution_count": 28,
   "metadata": {},
   "outputs": [],
   "source": [
    "# input related parameters\n",
    "projectName = \"corn-n-soy-v1\" # for reading the weights\n",
    "exp = \"exp\"\n",
    "weightsDir = f\"runs/acres22young/train/{projectName}/{exp}/weights/best.pt\"\n",
    "\n",
    "# output related parameters\n",
    "testCrop = 'soy' # 'corn' or 'soy'\n",
    "day = 'day0' # day0, day3, day5\n",
    "testImgsDir = f\"split/{testCrop}/{day}/*\"\n",
    "projectRootDir = \"/home/varun/work/yolov5/runs/acres22young/detect/\"\n",
    "detectSaveName = f\"{projectName}-{exp}-{testCrop}-{day}\" # projectName for saving the detection results (Name is mix of training dataset and test dataset)\n",
    "\n",
    "# detection parameters\n",
    "confThres = 0.25\n",
    "iouThres = 0.45"
   ]
  },
  {
   "cell_type": "code",
   "execution_count": 29,
   "metadata": {},
   "outputs": [
    {
     "name": "stdout",
     "output_type": "stream",
     "text": [
      "Ensure you in root directory of yolov5, then run the following commands to start training:\n",
      "\n",
      "tmux new -s corn-n-soy-v1-exp-soy-day0\n",
      "ca yv5\n",
      "sh runDetect_corn-n-soy-v1-exp-soy-day0.sh\n"
     ]
    }
   ],
   "source": [
    "# create detect run script\n",
    "testString = f\"python detect.py --weights {weightsDir} --source '{testImgsDir}' --save-txt --project {projectRootDir} --name {detectSaveName} --conf-thres {confThres} --iou-thres {iouThres}\"\n",
    "with open(\"runDetect_\"+detectSaveName+\".sh\", \"w\") as f:\n",
    "    f.write(\"#!/bin/bash\\n\")\n",
    "    f.write(testString)\n",
    "\n",
    "print(\"Ensure you in root directory of yolov5, then run the following commands to start training:\")\n",
    "print()\n",
    "print(\"tmux new -s \"+detectSaveName)\n",
    "print(\"ca yv5\")\n",
    "print(\"sh runDetect_\"+detectSaveName+\".sh\")"
   ]
  },
  {
   "cell_type": "markdown",
   "metadata": {},
   "source": [
    "# 3. Counting and validating with ground truth task\n",
    "\n",
    "This is part of research effort in collboration with Dr. Young in 2022.\n",
    "Dataset: images collected at ACRES in Summer of 2022"
   ]
  },
  {
   "cell_type": "code",
   "execution_count": null,
   "metadata": {},
   "outputs": [],
   "source": [
    "#Files to read\n",
    "rootDataFolder = 'runs/acres22young/dataSideProject'\n",
    "cornCountYoung = 'ACRE-069-CORN_Weed Counts and Application Info.xlsx'\n",
    "cornCountVarun = 'results.xlsx'\n",
    "sheetCornCountYoung = 'Total Weed Density by Specie'\n",
    "sheetCornCountVarun = 'Corn - Day0'\n",
    "\n",
    "soyCountYoung = 'ACRE-131-SOYBEAN_Weed Counts and Application Info.xlsx'\n",
    "soyCountVarun = 'results.xlsx'\n",
    "sheetSoyCountYoung = 'Total Weed Density by Specie'\n",
    "sheetSoyCountVarun = 'Soy - Day0'\n",
    "\n",
    "#Folder in which output should be saved\n",
    "save_folder = 'SP_Reports'"
   ]
  },
  {
   "cell_type": "code",
   "execution_count": null,
   "metadata": {},
   "outputs": [],
   "source": [
    "import os\n",
    "import re\n",
    "import collections\n",
    "import numpy as np\n",
    "\n",
    "import warnings\n",
    "warnings.simplefilter(action='ignore', category=FutureWarning)\n",
    "\n",
    "import pandas as pd\n",
    "\n",
    "# Handling File Paths\n",
    "cornCountYoung = os.path.join(rootDataFolder, cornCountYoung)\n",
    "cornCountVarun = os.path.join(rootDataFolder, cornCountVarun)\n",
    "soyCountYoung = os.path.join(rootDataFolder, soyCountYoung)\n",
    "soyCountVarun = os.path.join(rootDataFolder, soyCountVarun)\n",
    "\n",
    "#Creating save_folder\n",
    "if save_folder not in os.listdir():\n",
    "    os.mkdir(save_folder)"
   ]
  },
  {
   "cell_type": "markdown",
   "metadata": {},
   "source": [
    "### 3.2 Corn Processing"
   ]
  },
  {
   "cell_type": "code",
   "execution_count": null,
   "metadata": {},
   "outputs": [],
   "source": [
    "dfYoung = pd.read_excel(cornCountYoung, sheet_name=sheetCornCountYoung)\n",
    "dfVarun = pd.read_excel(cornCountVarun, sheet_name=sheetCornCountVarun)\n",
    "\n",
    "# Merge the two dataframes for corn\n",
    "plotCountYoung = dfYoung.query('DAA==0')[['TOTAL','Plot','Corn Stage']].sort_values(by='Plot').reset_index(drop=True)\n",
    "plotCountVarun = dfVarun.copy()\n",
    "dfTemp = pd.merge(plotCountYoung, plotCountVarun, left_on='Plot', right_on='Plot Number', how='inner')\n",
    "dfTemp = dfTemp[['Plot','Corn Stage','TOTAL','Weed Count']]\n",
    "dfTemp.rename(columns={'TOTAL':'Young Count', 'Weed Count':'Varun Count', 'Plot':'Plot Corn'}, inplace=True)\n",
    "\n",
    "# Get difference of weed count for corn\n",
    "dfTemp['Difference'] = dfTemp['Young Count'] - dfTemp['Varun Count']\n",
    "\n",
    "dfTemp.to_excel(os.path.join(save_folder, 'Corn_Compiled.xlsx'), index=False)\n",
    "display(dfTemp.head())"
   ]
  },
  {
   "cell_type": "markdown",
   "metadata": {},
   "source": [
    "### 3.3 Soy Processing"
   ]
  },
  {
   "cell_type": "code",
   "execution_count": null,
   "metadata": {},
   "outputs": [],
   "source": [
    "# Soy Processing\n",
    "dfYoung = pd.read_excel(soyCountYoung, sheet_name=sheetSoyCountYoung)\n",
    "dfVarun = pd.read_excel(soyCountVarun, sheet_name=sheetSoyCountVarun)\n",
    "\n",
    "# Merge the two dataframes for soy\n",
    "plotCountYoung = dfYoung.query('DAA==0')[['TOTAL','Plot','Soybean Stage']].sort_values(by='Plot').reset_index(drop=True)\n",
    "plotCountVarun = dfVarun.copy()\n",
    "dfTemp = pd.merge(plotCountYoung, plotCountVarun, left_on='Plot', right_on='Plot Number', how='inner')\n",
    "dfTemp = dfTemp[['Plot','Soybean Stage','TOTAL','Weed Count']]\n",
    "dfTemp.rename(columns={'TOTAL':'Young Count', 'Weed Count':'Varun Count', 'Plot':'Plot Soy'}, inplace=True)\n",
    "\n",
    "# Get difference of weed count for soy\n",
    "dfTemp['Difference'] = dfTemp['Young Count'] - dfTemp['Varun Count']\n",
    "\n",
    "dfTemp.to_excel(os.path.join(save_folder, 'Soy_Compiled.xlsx'), index=False)\n",
    "display(dfTemp.head())"
   ]
  }
 ],
 "metadata": {
  "kernelspec": {
   "display_name": "Python 3.8.13 ('yv5')",
   "language": "python",
   "name": "python3"
  },
  "language_info": {
   "codemirror_mode": {
    "name": "ipython",
    "version": 3
   },
   "file_extension": ".py",
   "mimetype": "text/x-python",
   "name": "python",
   "nbconvert_exporter": "python",
   "pygments_lexer": "ipython3",
   "version": "3.8.13"
  },
  "orig_nbformat": 4,
  "vscode": {
   "interpreter": {
    "hash": "de8c8650fb9c1e5f887a2adaabd7c2739d62696876b5af5a5fff209b83a4b325"
   }
  }
 },
 "nbformat": 4,
 "nbformat_minor": 2
}
