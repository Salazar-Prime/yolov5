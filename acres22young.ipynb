{
 "cells": [
  {
   "cell_type": "code",
   "execution_count": null,
   "metadata": {},
   "outputs": [],
   "source": [
    "## Dataset should be arranged in two folder,\n",
    "##### Dataroot\n",
    "#####  |\n",
    "#####  ├── images (jpeg/png RGB images)\n",
    "#####  └── labels (label files in yolo format. Each label file should have same basename as corresponding image file)\n",
    "\n",
    "##### The code must run from project root directory (For Example: ~/work/yolov5)"
   ]
  },
  {
   "cell_type": "markdown",
   "metadata": {},
   "source": [
    "> Run the notebook one section at a time only. \n",
    ">\n",
    "> WARNING: Running the entire notebook at once will cause errors !!!"
   ]
  },
  {
   "cell_type": "markdown",
   "metadata": {},
   "source": [
    "## 1. Training"
   ]
  },
  {
   "cell_type": "code",
   "execution_count": null,
   "metadata": {},
   "outputs": [],
   "source": [
    "# dataset parameters\n",
    "dataRoot = \"/home/varun/work/yolov5/data/labData/corn-n-soy\"\n",
    "trainRelativePath = \"images\"\n",
    "valRelativePath = \"images\"\n",
    "yamlPath = \"/home/varun/work/yolov5/data/labData/corn-n-soy.yaml\"\n",
    "classList = [\"weed\"]\n",
    "\n",
    "# training parameters\n",
    "imgSize = 640\n",
    "batchSize = 32\n",
    "epochs = 300\n",
    "weightPath = \"/home/varun/work/yolov5/yolov5s.pt\"\n",
    "device = \"0\"\n",
    "optimizer = \"Adam\" #(choose from 'SGD', 'Adam', 'AdamW')  \n",
    "workers = 16\n",
    "projectSaveDir = \"/home/varun/work/yolov5/runs/acres22young/train\"\n",
    "projectName = \"corn-n-soy-v1\" # name of the project (relative to projectSaveDir)\n",
    "savePeriod = 10\n",
    "cacheRAM = True\n",
    "useWandb = True\n",
    "condaEnvName = \"yv5\""
   ]
  },
  {
   "cell_type": "code",
   "execution_count": null,
   "metadata": {},
   "outputs": [],
   "source": [
    "import os\n",
    "\n",
    "pN = os.path.join(projectSaveDir, projectName)\n",
    "## Setups train command\n",
    "if cacheRAM:\n",
    "    trainString = f\"python train.py --img {imgSize} --batch {batchSize} --epochs {epochs} --data {yamlPath} --weights {weightPath} --device {device} --optimizer {optimizer} --workers {workers} --project {pN} --save-period {savePeriod} --cache ram\"\n",
    "else:\n",
    "    trainString = f\"python train.py --img {imgSize} --batch {batchSize} --epochs {epochs} --data {yamlPath} --weights {weightPath} --device {device} --optimizer {optimizer} --workers {workers} --project {pN} --save-period {savePeriod}\""
   ]
  },
  {
   "cell_type": "code",
   "execution_count": null,
   "metadata": {},
   "outputs": [],
   "source": [
    "## Create yaml file\n",
    "with open(yamlPath, \"w\") as f:\n",
    "    f.write(\"# YAML file for Project: \"+ projectName+\"\\n\")\n",
    "    f.write(\"# Training Command:\\n\")\n",
    "    f.write(\"# \"+trainString+ \"\\n\")\n",
    "    f.write(\"train: \" + os.path.join(dataRoot, trainRelativePath) + \"\\n\")\n",
    "    f.write(\"val: \" + os.path.join(dataRoot, valRelativePath) + \"\\n\")\n",
    "    f.write(\"nc: \" + str(len(classList)) + \"\\n\")\n",
    "    f.write(\"names:\\n\")\n",
    "    for i, cls in enumerate(classList):\n",
    "        f.write(\"  \"+str(i)+\": \"+cls + \"\\n\")"
   ]
  },
  {
   "cell_type": "code",
   "execution_count": null,
   "metadata": {},
   "outputs": [],
   "source": [
    "# create train run script\n",
    "with open(\"runTrain_\"+projectName+\".sh\", \"w\") as f:\n",
    "    f.write(\"#!/bin/bash\\n\")\n",
    "    f.write(trainString)\n",
    "\n",
    "print(\"Run the following commands to start training:\")\n",
    "print(\"tmux new -s \"+projectName)\n",
    "print(\"ca yv5\")\n",
    "if useWandb:\n",
    "    print(\"wandb online\")\n",
    "else:\n",
    "    print(\"wandb offline\")\n",
    "print(\"sh runTrain_\"+projectName+\".sh\")"
   ]
  },
  {
   "cell_type": "markdown",
   "metadata": {},
   "source": [
    "# 2. Testing"
   ]
  },
  {
   "cell_type": "code",
   "execution_count": null,
   "metadata": {},
   "outputs": [],
   "source": [
    "# input related parameters\n",
    "projectName = \"corn-n-soy-v1\" # for reading the weights\n",
    "exp = \"exp\"\n",
    "weightsDir = f\"runs/acres22young/train/{projectName}/{exp}/weights/best.pt\"\n",
    "\n",
    "# output related parameters\n",
    "testCrop = 'soy' # 'corn' or 'soy'\n",
    "day = 'day0' # day0, day3, day5\n",
    "testImgsDir = f\"split/{testCrop}/{day}/*\"\n",
    "projectRootDir = \"/home/varun/work/yolov5/runs/acres22young/detect/\"\n",
    "detectSaveName = f\"{projectName}-{exp}-{testCrop}-{day}\" # projectName for saving the detection results (Name is mix of training dataset and test dataset)\n",
    "\n",
    "# detection parameters\n",
    "confThres = 0.25\n",
    "iouThres = 0.45"
   ]
  },
  {
   "cell_type": "code",
   "execution_count": null,
   "metadata": {},
   "outputs": [],
   "source": [
    "# create detect run script\n",
    "testString = f\"python detect.py --weights {weightsDir} --source '{testImgsDir}' --save-txt --project {projectRootDir} --name {detectSaveName} --conf-thres {confThres} --iou-thres {iouThres}\"\n",
    "with open(\"runDetect_\"+detectSaveName+\".sh\", \"w\") as f:\n",
    "    f.write(\"#!/bin/bash\\n\")\n",
    "    f.write(testString)\n",
    "\n",
    "print(\"Ensure you in root directory of yolov5, then run the following commands to start training:\")\n",
    "print()\n",
    "print(\"tmux new -s \"+detectSaveName)\n",
    "print(\"ca yv5\")\n",
    "print(\"sh runDetect_\"+detectSaveName+\".sh\")"
   ]
  },
  {
   "cell_type": "markdown",
   "metadata": {},
   "source": [
    "# 3. Counting and validating with ground truth task\n",
    "\n",
    "This is part of research effort in collboration with Dr. Young in 2022.\n",
    "Dataset: images collected at ACRES in Summer of 2022"
   ]
  },
  {
   "cell_type": "code",
   "execution_count": 1,
   "metadata": {},
   "outputs": [],
   "source": [
    "# Files to read\n",
    "rootDataFolder = 'runs/acres22young/dataSideProject'\n",
    "cornCountYoung = 'ACRE-069-CORN_Weed Counts and Application Info.xlsx'\n",
    "sheetCornCountYoung = 'Total Weed Density by Specie'\n",
    "soyCountYoung = 'ACRE-131-SOYBEAN_Weed Counts and Application Info.xlsx'\n",
    "sheetSoyCountYoung = 'Total Weed Density by Specie'\n",
    "\n",
    "#Folder in which output should be saved\n",
    "save_folder = 'runs/acres22young/reports'\n",
    "reportNameCorn = \"cornCountACRES69.xlsx\"\n",
    "reportNameSoy = \"soyCountACRES131.xlsx\"\n",
    "\n",
    "# parameters for getting detection results in sheet \n",
    "cornDayList = [\"day0\", \"day3\", \"day5\"]\n",
    "soyDayList = [\"day0\"]\n",
    "trialNameList = [\"corn-n-soy-v1-exp\", \"onlyCorn-v1-exp6\", \"onlySoy-v1-exp\"] # check the name of the folder in which detection results are saved\n",
    "cropList = [\"corn\", \"soy\"]\n",
    "detectResultsFolder = \"runs/acres22young/detect\""
   ]
  },
  {
   "cell_type": "code",
   "execution_count": 2,
   "metadata": {},
   "outputs": [],
   "source": [
    "import os\n",
    "import re\n",
    "import collections\n",
    "import numpy as np\n",
    "import itertools\n",
    "\n",
    "import warnings\n",
    "warnings.simplefilter(action='ignore', category=FutureWarning)\n",
    "import pandas as pd\n",
    "\n",
    "# Handling File Paths\n",
    "cornCountYoung = os.path.join(rootDataFolder, cornCountYoung)\n",
    "soyCountYoung = os.path.join(rootDataFolder, soyCountYoung)\n",
    "\n",
    "#Creating save_folder\n",
    "if save_folder not in os.listdir():\n",
    "    if save_folder.rsplit('/', 1)[1] not in os.listdir(save_folder.rsplit('/', 1)[0]):\n",
    "        os.mkdir(save_folder)"
   ]
  },
  {
   "cell_type": "markdown",
   "metadata": {},
   "source": [
    "## 3.1 Getting weed counts in soy and corn"
   ]
  },
  {
   "cell_type": "code",
   "execution_count": 5,
   "metadata": {},
   "outputs": [],
   "source": [
    "def processDataframes(crop, dayList, reportName, columnsToKeep, dfYoung):\n",
    "    columns = ['Plot']\n",
    "    columns.extend(trialNameList)\n",
    "    dfDay = pd.DataFrame(columns=columns)\n",
    "    dfDay['Plot'] = [101, 102, 103, 104, 105, 106, 107, 108, 109, 110, 111, 112, \n",
    "                     201, 202, 203, 204, 205, 206, 207, 208, 209, 210, 211, 212,\n",
    "                     301, 302, 303, 304, 305, 306, 307, 308, 309, 310, 311, 312,]\n",
    "\n",
    "    for day in dayList:\n",
    "        df = dfDay.copy()\n",
    "        for idx, trialName in enumerate(trialNameList):\n",
    "            detectResultsPath = os.path.join(detectResultsFolder, trialName+\"-\"+crop+\"-\"+day, \"labels\")\n",
    "            # get detection count\n",
    "            for fileName in os.listdir(detectResultsPath):\n",
    "                # get plot number from filename\n",
    "                pN = fileName.split(\"Tile\")[0].split(\"plot\")[1]\n",
    "                with open(os.path.join(detectResultsPath,fileName)) as f:\n",
    "                    # get current count for plot number and increment by 1\n",
    "                    currentCount = df.loc[df['Plot'] == int(pN)].values[0][1+idx]\n",
    "                    for line in f:\n",
    "                        if line.strip():\n",
    "                            if currentCount is np.nan:\n",
    "                                df.loc[df['Plot'] == int(pN), trialName] = 0\n",
    "                                currentCount = 0\n",
    "                            currentCount += 1\n",
    "                df.loc[df['Plot'] == int(pN), trialName] = currentCount\n",
    "        if day == \"day0\" or day == \"day5\":\n",
    "            df = combineManualCount(df, dfYoung, day, columnsToKeep.copy())\n",
    "            df = addDifferenceColumns(df)\n",
    "            df = addPercentDifferenceColumns(df)\n",
    "        saveDataframe(df, save_folder, reportName, day)\n",
    "    return df\n",
    "\n",
    "def addDifferenceColumns(df):\n",
    "    for col in trialNameList:\n",
    "        colName = \"Diff: \" + col \n",
    "        df[colName] = df[col] - df[\"Manual Count\"]\n",
    "    return df\n",
    "\n",
    "def addPercentDifferenceColumns(df):\n",
    "    for col in trialNameList:\n",
    "        colName = \"Error %: \" + col \n",
    "        try:\n",
    "            df[colName] = 100 * df[\"Diff: \" + col] / df[\"Manual Count\"]\n",
    "        except ZeroDivisionError:\n",
    "            df[colName] = np.nan\n",
    "    return df\n",
    "\n",
    "def combineManualCount(df, dfYoung, day, columnsToKeep):\n",
    "    plotCountVarun = df.copy()\n",
    "    day = int(day.replace('day', ''))\n",
    "    query = f\"DAA=={day}\"\n",
    "    plotCountYoung = dfYoung.query(query)[columnsToKeep].sort_values(by='Plot').reset_index(drop=True)\n",
    "\n",
    "    plotCountVarun = plotCountVarun.astype({'Plot': 'int16'})\n",
    "    plotCountYoung = plotCountYoung.astype({'Plot': 'int16'})\n",
    "    dfTemp = pd.merge(plotCountYoung, plotCountVarun, on='Plot', how='outer')\n",
    "    \n",
    "    columnsToKeep.extend(trialNameList)\n",
    "    dfTemp = dfTemp[columnsToKeep]\n",
    "    dfTemp.rename(columns={'TOTAL':'Manual Count', 'Plot':'Plot Number'}, inplace=True)\n",
    "    return dfTemp\n",
    "\n",
    "\n",
    "def saveDataframe(df, save_folder, fileName, day):\n",
    "    if os.path.exists(os.path.join(save_folder, fileName)):\n",
    "        with pd.ExcelWriter(os.path.join(save_folder, fileName), if_sheet_exists=\"replace\", mode='a', engine='openpyxl') as writer:\n",
    "            df.to_excel(writer, sheet_name=day, index=False)\n",
    "    else:\n",
    "        with pd.ExcelWriter(os.path.join(save_folder, fileName), engine='openpyxl') as writer:\n",
    "            df.to_excel(writer, sheet_name=day, index=False)"
   ]
  },
  {
   "cell_type": "markdown",
   "metadata": {},
   "source": [
    "### 3.2 Corn Processing"
   ]
  },
  {
   "cell_type": "code",
   "execution_count": 8,
   "metadata": {},
   "outputs": [],
   "source": [
    "##### FOR CORN #####\n",
    "columnsToKeep = ['Plot','Treatment','Corn Stage', 'Size','TOTAL']\n",
    "dfYoung = pd.read_excel(cornCountYoung, sheet_name=sheetCornCountYoung)\n",
    "df = processDataframes(\"corn\", cornDayList, reportNameCorn, columnsToKeep, dfYoung)\n"
   ]
  },
  {
   "cell_type": "code",
   "execution_count": 7,
   "metadata": {},
   "outputs": [
    {
     "ename": "NameError",
     "evalue": "name 'df' is not defined",
     "output_type": "error",
     "traceback": [
      "\u001b[0;31m---------------------------------------------------------------------------\u001b[0m",
      "\u001b[0;31mNameError\u001b[0m                                 Traceback (most recent call last)",
      "\u001b[0;32m/tmp/ipykernel_2556382/4064293169.py\u001b[0m in \u001b[0;36m<module>\u001b[0;34m\u001b[0m\n\u001b[0;32m----> 1\u001b[0;31m \u001b[0mdf\u001b[0m\u001b[0;34m.\u001b[0m\u001b[0mdisplay\u001b[0m\u001b[0;34m(\u001b[0m\u001b[0;34m)\u001b[0m\u001b[0;34m\u001b[0m\u001b[0;34m\u001b[0m\u001b[0m\n\u001b[0m",
      "\u001b[0;31mNameError\u001b[0m: name 'df' is not defined"
     ]
    }
   ],
   "source": [
    "df.display()"
   ]
  },
  {
   "cell_type": "markdown",
   "metadata": {},
   "source": [
    "### 3.3 Soy Processing"
   ]
  },
  {
   "cell_type": "code",
   "execution_count": null,
   "metadata": {},
   "outputs": [],
   "source": [
    "##### FOR SOY #####\n",
    "columnsToKeep = ['Plot','Treatment','Soybean Stage','Size','TOTAL']\n",
    "dfYoung = pd.read_excel(soyCountYoung, sheet_name=sheetSoyCountYoung)\n",
    "df = processDataframes(\"soy\", soyDayList, reportNameSoy, columnsToKeep, dfYoung)"
   ]
  }
 ],
 "metadata": {
  "kernelspec": {
   "display_name": "Python 3.7.11 ('o4a')",
   "language": "python",
   "name": "python3"
  },
  "language_info": {
   "codemirror_mode": {
    "name": "ipython",
    "version": 3
   },
   "file_extension": ".py",
   "mimetype": "text/x-python",
   "name": "python",
   "nbconvert_exporter": "python",
   "pygments_lexer": "ipython3",
   "version": "3.7.11"
  },
  "orig_nbformat": 4,
  "vscode": {
   "interpreter": {
    "hash": "7dfc2a6aa4265457ba0413933511ca6d22517cba6cf98bbc27b0cea0f143b2ee"
   }
  }
 },
 "nbformat": 4,
 "nbformat_minor": 2
}
